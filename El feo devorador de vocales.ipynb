{
 "cells": [
  {
   "cell_type": "markdown",
   "metadata": {},
   "source": [
    "## EL FEO DEVORADOR DE VOCALES\n",
    "#Problematica: \n",
    "Crear un programa que pida al usuario una palabra,\n",
    "convertir la palabra a mayúsculas y \"Comer\" las \n",
    "vocales de la misma. Mostra el resultado final.\n"
   ]
  },
  {
   "cell_type": "code",
   "execution_count": 4,
   "metadata": {},
   "outputs": [
    {
     "name": "stdout",
     "output_type": "stream",
     "text": [
      "Ingresar una palabra: aeiou\n",
      "Fin del programa\n",
      "Palabra final es: \n"
     ]
    }
   ],
   "source": [
    "#Indicar al usuario que ingrese una palabra\n",
    "userWord = input('Ingresar una palabra: ')\n",
    "''' |----------------------------| \n",
    "    | Empleamos el método upper()|\n",
    "    | nos permite tomar un string|\n",
    "    | y convertir sus carácteres |\n",
    "    | en capitales (mayúsculas)  |\n",
    "    |----------------------------|'''\n",
    "userWord = userWord.upper()\n",
    "finalword = '' #creacion de la variable para almacenar las letras finales\n",
    "for letra in userWord:\n",
    "# Empleamos la condición if para\n",
    "#    almacenar solamente las consonantes\n",
    "    if letra != 'A' and letra != 'E' and letra != 'I' and letra != 'O' and letra != 'U':\n",
    "        finalword = finalword + letra \n",
    "    else:\n",
    "        continue\n",
    "print('Fin del programa')\n",
    "print('Palabra final es:', finalword)"
   ]
  },
  {
   "cell_type": "code",
   "execution_count": null,
   "metadata": {},
   "outputs": [],
   "source": []
  }
 ],
 "metadata": {
  "kernelspec": {
   "display_name": "Python 3",
   "language": "python",
   "name": "python3"
  },
  "language_info": {
   "codemirror_mode": {
    "name": "ipython",
    "version": 3
   },
   "file_extension": ".py",
   "mimetype": "text/x-python",
   "name": "python",
   "nbconvert_exporter": "python",
   "pygments_lexer": "ipython3",
   "version": "3.7.9"
  }
 },
 "nbformat": 4,
 "nbformat_minor": 4
}
